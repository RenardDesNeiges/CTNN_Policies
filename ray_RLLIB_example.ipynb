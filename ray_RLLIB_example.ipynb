{
 "cells": [
  {
   "cell_type": "markdown",
   "metadata": {},
   "source": [
    "# Example notebook training of an RL agent using Ray RLlib\n",
    "#### *(using th CartPole-v1 gym environnment)*"
   ]
  },
  {
   "cell_type": "markdown",
   "metadata": {},
   "source": [
    "### Import requirements"
   ]
  },
  {
   "cell_type": "code",
   "execution_count": 1,
   "metadata": {},
   "outputs": [
    {
     "name": "stderr",
     "output_type": "stream",
     "text": [
      "\n"
     ]
    }
   ],
   "source": [
    "from ray.rllib.agents.ppo import PPOTrainer\n",
    "from ray.rllib.models import ModelCatalog\n",
    "import numpy as np\n",
    "import matplotlib.pyplot as plt\n",
    "import LTCRL.utils as lru               # Utilities for training LTCs with pytorch"
   ]
  },
  {
   "cell_type": "markdown",
   "metadata": {},
   "source": [
    "### Define a config dictionary for our trainer "
   ]
  },
  {
   "cell_type": "code",
   "execution_count": 2,
   "metadata": {},
   "outputs": [],
   "source": [
    "ModelCatalog.register_custom_model(\"example_rnn_model\", lru.TorchRNNModel)\n",
    "\n",
    "config = {\n",
    "    # Environment (RLlib understands openAI gym registered strings).\n",
    "    \"env\": \"CartPole-v1\",\n",
    "    # Use 2 environment workers (aka \"rollout workers\") that parallelly\n",
    "    # collect samples from their own environment clone(s).\n",
    "    \"num_workers\": 8,\n",
    "    # Change this to \"framework: torch\", if you are using PyTorch.\n",
    "    # Also, use \"framework: tf2\" for tf2.x eager execution.\n",
    "    \"framework\": \"torch\",\n",
    "    # Tweak the default model provided automatically by RLlib,\n",
    "    # given the environment's observation- and action spaces.\n",
    "    \"model\": {\n",
    "        \"fcnet_hiddens\": [64, 64],\n",
    "        \"fcnet_activation\": \"relu\",\n",
    "    },\n",
    "    # Set up a separate evaluation worker set for the\n",
    "    # `trainer.evaluate()` call after training (see below).\n",
    "    \"evaluation_num_workers\": 1,\n",
    "    # Only for evaluation runs, render the env.\n",
    "    \"evaluation_config\": {\n",
    "        \"render_env\": True,\n",
    "    }\n",
    "}"
   ]
  },
  {
   "cell_type": "markdown",
   "metadata": {},
   "source": [
    "### Train the agent with our defined config"
   ]
  },
  {
   "cell_type": "code",
   "execution_count": 5,
   "metadata": {},
   "outputs": [
    {
     "name": "stderr",
     "output_type": "stream",
     "text": [
      "2022-03-14 00:57:00,915\tWARNING trainer.py:2279 -- You have specified 1 evaluation workers, but your `evaluation_interval` is None! Therefore, evaluation will not occur automatically with each call to `Trainer.train()`. Instead, you will have to call `Trainer.evaluate()` manually in order to trigger an evaluation run.\n",
      "2022-03-14 00:57:00,915\tWARNING ppo.py:223 -- `train_batch_size` (4000) cannot be achieved with your other settings (num_workers=8 num_envs_per_worker=1 rollout_fragment_length=200)! Auto-adjusting `rollout_fragment_length` to 500.\n",
      "\u001b[2m\u001b[36m(pid=53826)\u001b[0m \n",
      "\u001b[2m\u001b[36m(pid=53827)\u001b[0m \n",
      "\u001b[2m\u001b[36m(pid=53833)\u001b[0m \n",
      "\u001b[2m\u001b[36m(pid=53828)\u001b[0m \n",
      "\u001b[2m\u001b[36m(pid=53834)\u001b[0m \n",
      "\u001b[2m\u001b[36m(pid=53839)\u001b[0m \n",
      "\u001b[2m\u001b[36m(pid=53832)\u001b[0m \n",
      "2022-03-14 00:57:08,814\tWARNING deprecation.py:45 -- DeprecationWarning: `simple_optimizer` has been deprecated. This will raise an error in the future!\n",
      "2022-03-14 00:57:08,814\tWARNING trainer.py:2279 -- You have specified 1 evaluation workers, but your `evaluation_interval` is None! Therefore, evaluation will not occur automatically with each call to `Trainer.train()`. Instead, you will have to call `Trainer.evaluate()` manually in order to trigger an evaluation run.\n",
      "2022-03-14 00:57:08,858\tWARNING util.py:55 -- Install gputil for GPU system monitoring.\n",
      "\u001b[2m\u001b[36m(RolloutWorker pid=53826)\u001b[0m 2022-03-14 00:57:08,793\tWARNING deprecation.py:45 -- DeprecationWarning: `rllib.env.remote_vector_env.RemoteVectorEnv` has been deprecated. Use `ray.rllib.env.remote_base_env.RemoteBaseEnv` instead. This will raise an error in the future!\n",
      "\u001b[2m\u001b[36m(RolloutWorker pid=53827)\u001b[0m 2022-03-14 00:57:08,793\tWARNING deprecation.py:45 -- DeprecationWarning: `rllib.env.remote_vector_env.RemoteVectorEnv` has been deprecated. Use `ray.rllib.env.remote_base_env.RemoteBaseEnv` instead. This will raise an error in the future!\n",
      "\u001b[2m\u001b[36m(RolloutWorker pid=53833)\u001b[0m 2022-03-14 00:57:08,794\tWARNING deprecation.py:45 -- DeprecationWarning: `rllib.env.remote_vector_env.RemoteVectorEnv` has been deprecated. Use `ray.rllib.env.remote_base_env.RemoteBaseEnv` instead. This will raise an error in the future!\n",
      "\u001b[2m\u001b[36m(RolloutWorker pid=53828)\u001b[0m 2022-03-14 00:57:08,793\tWARNING deprecation.py:45 -- DeprecationWarning: `rllib.env.remote_vector_env.RemoteVectorEnv` has been deprecated. Use `ray.rllib.env.remote_base_env.RemoteBaseEnv` instead. This will raise an error in the future!\n",
      "\u001b[2m\u001b[36m(RolloutWorker pid=53834)\u001b[0m 2022-03-14 00:57:08,794\tWARNING deprecation.py:45 -- DeprecationWarning: `rllib.env.remote_vector_env.RemoteVectorEnv` has been deprecated. Use `ray.rllib.env.remote_base_env.RemoteBaseEnv` instead. This will raise an error in the future!\n",
      "\u001b[2m\u001b[36m(RolloutWorker pid=53839)\u001b[0m 2022-03-14 00:57:08,794\tWARNING deprecation.py:45 -- DeprecationWarning: `rllib.env.remote_vector_env.RemoteVectorEnv` has been deprecated. Use `ray.rllib.env.remote_base_env.RemoteBaseEnv` instead. This will raise an error in the future!\n",
      "\u001b[2m\u001b[36m(RolloutWorker pid=53832)\u001b[0m 2022-03-14 00:57:08,794\tWARNING deprecation.py:45 -- DeprecationWarning: `rllib.env.remote_vector_env.RemoteVectorEnv` has been deprecated. Use `ray.rllib.env.remote_base_env.RemoteBaseEnv` instead. This will raise an error in the future!\n"
     ]
    },
    {
     "name": "stdout",
     "output_type": "stream",
     "text": [
      "iteration : 0 , \n",
      "\u001b[2m\u001b[1m\u001b[36m(scheduler +1m48s)\u001b[0m Tip: use `ray status` to view detailed cluster status. To disable these messages, set RAY_SCHEDULER_EVENTS=0.\n",
      "\u001b[2m\u001b[1m\u001b[33m(scheduler +1m48s)\u001b[0m Warning: The following resource request cannot be scheduled right now: {'CPU': 1.0}. This is likely due to all cluster resources being claimed by actors. Consider creating fewer actors or adding more nodes to this Ray cluster.\n"
     ]
    },
    {
     "name": "stderr",
     "output_type": "stream",
     "text": [
      "2022-03-14 00:57:28,403\tWARNING worker.py:1257 -- The actor or task with ID ffffffffffffffff3ddb07d7af276eefb4ce1bf201000000 cannot be scheduled right now. You can ignore this message if this Ray cluster is expected to auto-scale or if you specified a runtime_env for this actor or task, which may take time to install.  Otherwise, this is likely due to all cluster resources being claimed by actors. To resolve the issue, consider creating fewer actors or increasing the resources available to this Ray cluster.\n",
      "Required resources for this actor or task: {CPU: 1.000000}\n",
      "Available resources on this node: {0.000000/16.000000 CPU, 5.752837 GiB/5.752837 GiB memory, 2.876419 GiB/2.876419 GiB object_store_memory, 1.000000/1.000000 node:127.0.0.1}\n",
      " In total there are 0 pending tasks and 2 pending actors on this node.\n",
      "\u001b[2m\u001b[36m(pid=53871)\u001b[0m \n",
      "\u001b[2m\u001b[36m(pid=53872)\u001b[0m \n",
      "\u001b[2m\u001b[36m(RolloutWorker pid=53871)\u001b[0m 2022-03-14 00:57:36,752\tWARNING deprecation.py:45 -- DeprecationWarning: `rllib.env.remote_vector_env.RemoteVectorEnv` has been deprecated. Use `ray.rllib.env.remote_base_env.RemoteBaseEnv` instead. This will raise an error in the future!\n",
      "\u001b[2m\u001b[36m(RolloutWorker pid=53872)\u001b[0m 2022-03-14 00:57:36,752\tWARNING deprecation.py:45 -- DeprecationWarning: `rllib.env.remote_vector_env.RemoteVectorEnv` has been deprecated. Use `ray.rllib.env.remote_base_env.RemoteBaseEnv` instead. This will raise an error in the future!\n"
     ]
    },
    {
     "name": "stdout",
     "output_type": "stream",
     "text": [
      "len : 21.52513966480447\n",
      "avg_rev : 21.52513966480447\n",
      "iteration : 1 , \n",
      "len : 31.6015625\n",
      "avg_rev : 31.6015625\n",
      "iteration : 2 , \n",
      "len : 49.7\n",
      "avg_rev : 49.7\n",
      "iteration : 3 , \n",
      "len : 70.04\n",
      "avg_rev : 70.04\n",
      "iteration : 4 , \n",
      "len : 92.5\n",
      "avg_rev : 92.5\n",
      "iteration : 5 , \n",
      "len : 121.56\n",
      "avg_rev : 121.56\n",
      "iteration : 6 , \n",
      "len : 151.22\n",
      "avg_rev : 151.22\n",
      "iteration : 7 , \n",
      "len : 177.0\n",
      "avg_rev : 177.0\n",
      "iteration : 8 , \n",
      "len : 204.46\n",
      "avg_rev : 204.46\n",
      "iteration : 9 , \n",
      "len : 224.31\n",
      "avg_rev : 224.31\n",
      "iteration : 10 , \n",
      "len : 248.16\n",
      "avg_rev : 248.16\n",
      "iteration : 11 , \n",
      "len : 274.68\n",
      "avg_rev : 274.68\n",
      "iteration : 12 , \n",
      "len : 290.18\n",
      "avg_rev : 290.18\n",
      "iteration : 13 , \n",
      "len : 303.14\n",
      "avg_rev : 303.14\n",
      "iteration : 14 , \n",
      "len : 318.69\n",
      "avg_rev : 318.69\n",
      "iteration : 15 , \n",
      "len : 335.82\n",
      "avg_rev : 335.82\n",
      "iteration : 16 , \n",
      "len : 341.85\n",
      "avg_rev : 341.85\n",
      "iteration : 17 , \n",
      "len : 349.88\n",
      "avg_rev : 349.88\n",
      "iteration : 18 , \n",
      "len : 370.79\n",
      "avg_rev : 370.79\n",
      "iteration : 19 , \n",
      "len : 364.45\n",
      "avg_rev : 364.45\n",
      "iteration : 20 , \n",
      "len : 371.26\n",
      "avg_rev : 371.26\n",
      "iteration : 21 , \n",
      "len : 379.96\n",
      "avg_rev : 379.96\n",
      "iteration : 22 , \n",
      "len : 385.44\n",
      "avg_rev : 385.44\n",
      "iteration : 23 , \n",
      "len : 377.98\n",
      "avg_rev : 377.98\n",
      "iteration : 24 , \n",
      "len : 386.41\n",
      "avg_rev : 386.41\n",
      "iteration : 25 , \n",
      "len : 395.32\n",
      "avg_rev : 395.32\n",
      "iteration : 26 , \n",
      "len : 401.37\n",
      "avg_rev : 401.37\n",
      "iteration : 27 , \n",
      "len : 417.21\n",
      "avg_rev : 417.21\n",
      "iteration : 28 , \n",
      "len : 421.04\n",
      "avg_rev : 421.04\n",
      "iteration : 29 , \n",
      "len : 427.23\n",
      "avg_rev : 427.23\n",
      "iteration : 30 , \n",
      "len : 438.47\n",
      "avg_rev : 438.47\n",
      "iteration : 31 , \n",
      "len : 432.16\n",
      "avg_rev : 432.16\n",
      "iteration : 32 , \n",
      "len : 431.67\n",
      "avg_rev : 431.67\n",
      "iteration : 33 , \n",
      "len : 438.62\n",
      "avg_rev : 438.62\n",
      "iteration : 34 , \n",
      "len : 452.0\n",
      "avg_rev : 452.0\n",
      "iteration : 35 , \n",
      "len : 457.32\n",
      "avg_rev : 457.32\n",
      "iteration : 36 , \n",
      "len : 450.35\n",
      "avg_rev : 450.35\n",
      "iteration : 37 , \n",
      "len : 453.49\n",
      "avg_rev : 453.49\n",
      "iteration : 38 , \n",
      "len : 455.15\n",
      "avg_rev : 455.15\n",
      "iteration : 39 , \n",
      "len : 462.72\n",
      "avg_rev : 462.72\n"
     ]
    }
   ],
   "source": [
    "# Instanciate the PPO trainer object\n",
    "trainer = PPOTrainer(config=config)\n",
    "\n",
    "# Run it for n training iterations. A training iteration includes\n",
    "# parallel sample collection by the environment workers as well as\n",
    "# loss calculation on the collected batch and a model update.\n",
    "log = []\n",
    "iterations = 160\n",
    "for i in range(iterations):\n",
    "    print(\"iteration : \" +str(i), \", \")\n",
    "    log.append(trainer.train())\n",
    "    print('len : ' + str(log[i]['episode_len_mean']))\n",
    "    print('avg_rev : ' + str(np.array(log[i]['hist_stats']['episode_reward']).mean()))\n",
    "    # if i % 5 == 0:\n",
    "        # trainer.evaluate()\n",
    "        # trainer.evaluate()"
   ]
  },
  {
   "cell_type": "code",
   "execution_count": 21,
   "metadata": {},
   "outputs": [
    {
     "data": {
      "text/plain": [
       "Text(0.5, 1.0, 'Mean reward (reward = ep_length)')"
      ]
     },
     "execution_count": 21,
     "metadata": {},
     "output_type": "execute_result"
    },
    {
     "data": {
      "image/png": "[encoded data removed]",
      "text/plain": [
       "<Figure size 432x288 with 1 Axes>"
      ]
     },
     "metadata": {
      "needs_background": "light"
     },
     "output_type": "display_data"
    }
   ],
   "source": [
    "mean_rev = np.array(list(l['episode_reward_mean'] for l in log))\n",
    "plt.plot(mean_rev)\n",
    "plt.title('Mean reward (reward = ep_length)')"
   ]
  },
  {
   "cell_type": "code",
   "execution_count": 23,
   "metadata": {},
   "outputs": [
    {
     "data": {
      "text/plain": [
       "{'evaluation': {'episode_reward_max': 500.0,\n",
       "  'episode_reward_min': 500.0,\n",
       "  'episode_reward_mean': 500.0,\n",
       "  'episode_len_mean': 500.0,\n",
       "  'episode_media': {},\n",
       "  'episodes_this_iter': 10,\n",
       "  'policy_reward_min': {},\n",
       "  'policy_reward_max': {},\n",
       "  'policy_reward_mean': {},\n",
       "  'custom_metrics': {},\n",
       "  'hist_stats': {'episode_reward': [500.0,\n",
       "    500.0,\n",
       "    500.0,\n",
       "    500.0,\n",
       "    500.0,\n",
       "    500.0,\n",
       "    500.0,\n",
       "    500.0,\n",
       "    500.0,\n",
       "    500.0],\n",
       "   'episode_lengths': [500, 500, 500, 500, 500, 500, 500, 500, 500, 500]},\n",
       "  'sampler_perf': {'mean_raw_obs_processing_ms': 0.13474112593844145,\n",
       "   'mean_inference_ms': 1.083336964603999,\n",
       "   'mean_action_processing_ms': 0.06280007475769803,\n",
       "   'mean_env_wait_ms': 0.09842981433544397,\n",
       "   'mean_env_render_ms': 5.973688844646225},\n",
       "  'off_policy_estimator': {},\n",
       "  'timesteps_this_iter': 0}}"
      ]
     },
     "execution_count": 23,
     "metadata": {},
     "output_type": "execute_result"
    }
   ],
   "source": [
    "# Evaluate the trained Trainer (and render each timestep to the shell's\n",
    "# output).\n",
    "trainer.evaluate()"
   ]
  },
  {
   "cell_type": "code",
   "execution_count": null,
   "metadata": {},
   "outputs": [],
   "source": []
  }
 ],
 "metadata": {
  "interpreter": {
   "hash": "a8fdc6dd3a09dc5c83aad34f80e2b308d8dfb410ffac43971d3f03fb3420545d"
  },
  "kernelspec": {
   "display_name": "Python 3.6.13 ('torchNCP')",
   "language": "python",
   "name": "python3"
  },
  "language_info": {
   "codemirror_mode": {
    "name": "ipython",
    "version": 3
   },
   "file_extension": ".py",
   "mimetype": "text/x-python",
   "name": "python",
   "nbconvert_exporter": "python",
   "pygments_lexer": "ipython3",
   "version": "3.8.12"
  },
  "orig_nbformat": 4
 },
 "nbformat": 4,
 "nbformat_minor": 2
}
