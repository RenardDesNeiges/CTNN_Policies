{
 "cells": [
  {
   "cell_type": "markdown",
   "metadata": {},
   "source": [
    "# Example notebook training of an RL agent using Ray RLlib\n",
    "#### *(using th CartPole-v1 gym environnment)*"
   ]
  },
  {
   "cell_type": "markdown",
   "metadata": {},
   "source": [
    "### Import requirements"
   ]
  },
  {
   "cell_type": "code",
   "execution_count": 1,
   "metadata": {},
   "outputs": [
    {
     "name": "stderr",
     "output_type": "stream",
     "text": [
      "\n"
     ]
    }
   ],
   "source": [
    "from ray.rllib.agents.ppo import PPOTrainer\n",
    "from ray.rllib.models import ModelCatalog\n",
    "import numpy as np\n",
    "import matplotlib.pyplot as plt\n",
    "import LTCRL.utils as lru               # Utilities for training LTCs with pytorch\n",
    "import LTCRL.models as models"
   ]
  },
  {
   "cell_type": "markdown",
   "metadata": {},
   "source": [
    "## Training an agent with a simple perceptron"
   ]
  },
  {
   "cell_type": "markdown",
   "metadata": {},
   "source": [
    "### Define a config dictionary for our trainer \n",
    "Here we train on the cartpole-v1 openAI gym environment with a 2 layer 64 neuron perceptron as our policy net and PPO as our training algorithm."
   ]
  },
  {
   "cell_type": "code",
   "execution_count": 2,
   "metadata": {},
   "outputs": [],
   "source": [
    "config = {\n",
    "    # Environment (RLlib understands openAI gym registered strings).\n",
    "    \"env\": \"Pendulum-v1\",\n",
    "    # Use 2 environment workers (aka \"rollout workers\") that parallelly\n",
    "    # collect samples from their own environment clone(s).\n",
    "    \"num_workers\": 8,\n",
    "    # Change this to \"framework: torch\", if you are using PyTorch.\n",
    "    # Also, use \"framework: tf2\" for tf2.x eager execution.\n",
    "    \"framework\": \"torch\",\n",
    "    # Tweak the default model provided automatically by RLlib,\n",
    "    # given the environment's observation- and action spaces.\n",
    "    \"model\": {\n",
    "        \"fcnet_hiddens\": [16, 16],\n",
    "        \"fcnet_activation\": \"relu\",\n",
    "    },\n",
    "    # Set up a separate evaluation worker set for the\n",
    "    # `trainer.evaluate()` call after training (see below).\n",
    "    \"evaluation_num_workers\": 1,\n",
    "    # Only for evaluation runs, render the env.\n",
    "    \"evaluation_config\": {\n",
    "        \"render_env\": True,\n",
    "    }\n",
    "}"
   ]
  },
  {
   "cell_type": "markdown",
   "metadata": {},
   "source": [
    "### Train the agent with our defined config"
   ]
  },
  {
   "cell_type": "code",
   "execution_count": 8,
   "metadata": {},
   "outputs": [
    {
     "name": "stdout",
     "output_type": "stream",
     "text": [
      "iteration : 0 , \n",
      "len : 200.0\n",
      "avg_rev : -1171.2798994066104\n",
      "iteration : 1 , \n",
      "len : 200.0\n",
      "avg_rev : -1178.0736733549552\n",
      "iteration : 2 , \n",
      "len : 200.0\n",
      "avg_rev : -1182.957812100519\n",
      "iteration : 3 , \n",
      "len : 200.0\n",
      "avg_rev : -1168.8484507268247\n",
      "iteration : 4 , \n",
      "len : 200.0\n",
      "avg_rev : -1159.06726030781\n",
      "iteration : 5 , \n",
      "len : 200.0\n",
      "avg_rev : -1174.946886211331\n",
      "iteration : 6 , \n",
      "len : 200.0\n",
      "avg_rev : -1167.9705072854556\n",
      "iteration : 7 , \n",
      "len : 200.0\n",
      "avg_rev : -1167.5489308301335\n",
      "iteration : 8 , \n",
      "len : 200.0\n",
      "avg_rev : -1192.7477715855066\n",
      "iteration : 9 , \n",
      "len : 200.0\n",
      "avg_rev : -1207.170567642079\n",
      "iteration : 10 , \n",
      "len : 200.0\n",
      "avg_rev : -1206.2093328582241\n",
      "iteration : 11 , \n",
      "len : 200.0\n",
      "avg_rev : -1181.4007325213863\n",
      "iteration : 12 , \n",
      "len : 200.0\n",
      "avg_rev : -1178.7784661675644\n",
      "iteration : 13 , \n",
      "len : 200.0\n",
      "avg_rev : -1146.3152247889477\n",
      "iteration : 14 , \n",
      "len : 200.0\n",
      "avg_rev : -1138.9578220759672\n",
      "iteration : 15 , \n",
      "len : 200.0\n",
      "avg_rev : -1122.6047991045518\n",
      "iteration : 16 , \n",
      "len : 200.0\n",
      "avg_rev : -1131.8391461879316\n",
      "iteration : 17 , \n",
      "len : 200.0\n",
      "avg_rev : -1123.4235510789872\n",
      "iteration : 18 , \n",
      "len : 200.0\n",
      "avg_rev : -1115.9568163197937\n",
      "iteration : 19 , \n",
      "len : 200.0\n",
      "avg_rev : -1132.6691007371267\n",
      "iteration : 20 , \n",
      "len : 200.0\n",
      "avg_rev : -1131.5899901568343\n",
      "iteration : 21 , \n",
      "len : 200.0\n",
      "avg_rev : -1127.6938838747055\n",
      "iteration : 22 , \n",
      "len : 200.0\n",
      "avg_rev : -1136.722710312867\n",
      "iteration : 23 , \n",
      "len : 200.0\n",
      "avg_rev : -1138.5176114427738\n",
      "iteration : 24 , \n",
      "len : 200.0\n",
      "avg_rev : -1131.4827428712008\n",
      "iteration : 25 , \n",
      "len : 200.0\n",
      "avg_rev : -1135.2003757434657\n",
      "iteration : 26 , \n",
      "len : 200.0\n",
      "avg_rev : -1149.810361168976\n",
      "iteration : 27 , \n",
      "len : 200.0\n",
      "avg_rev : -1119.7236846992123\n",
      "iteration : 28 , \n",
      "len : 200.0\n",
      "avg_rev : -1114.6146443212267\n",
      "iteration : 29 , \n",
      "len : 200.0\n",
      "avg_rev : -1120.163267206984\n",
      "iteration : 30 , \n",
      "len : 200.0\n",
      "avg_rev : -1126.7470986401145\n",
      "iteration : 31 , \n",
      "len : 200.0\n",
      "avg_rev : -1097.1502607818456\n",
      "iteration : 32 , \n",
      "len : 200.0\n",
      "avg_rev : -1105.0779359361966\n",
      "iteration : 33 , \n",
      "len : 200.0\n",
      "avg_rev : -1108.4584969302275\n",
      "iteration : 34 , \n",
      "len : 200.0\n",
      "avg_rev : -1098.1065129788826\n",
      "iteration : 35 , \n",
      "len : 200.0\n",
      "avg_rev : -1063.2521251670516\n",
      "iteration : 36 , \n",
      "len : 200.0\n",
      "avg_rev : -1084.8980575525072\n",
      "iteration : 37 , \n",
      "len : 200.0\n",
      "avg_rev : -1095.3268953217953\n",
      "iteration : 38 , \n",
      "len : 200.0\n",
      "avg_rev : -1123.62312410861\n",
      "iteration : 39 , \n",
      "len : 200.0\n",
      "avg_rev : -1139.4742100088486\n",
      "iteration : 40 , \n",
      "len : 200.0\n",
      "avg_rev : -1161.1223614257128\n",
      "iteration : 41 , \n",
      "len : 200.0\n",
      "avg_rev : -1161.3286877424312\n",
      "iteration : 42 , \n",
      "len : 200.0\n",
      "avg_rev : -1146.709861496813\n",
      "iteration : 43 , \n",
      "len : 200.0\n",
      "avg_rev : -1112.9221756823538\n",
      "iteration : 44 , \n",
      "len : 200.0\n",
      "avg_rev : -1108.3189283746876\n",
      "iteration : 45 , \n",
      "len : 200.0\n",
      "avg_rev : -1112.7889836922147\n",
      "iteration : 46 , \n",
      "len : 200.0\n",
      "avg_rev : -1097.5103871498393\n",
      "iteration : 47 , \n",
      "len : 200.0\n",
      "avg_rev : -1112.9800406010465\n",
      "iteration : 48 , \n",
      "len : 200.0\n",
      "avg_rev : -1126.4427209153653\n",
      "iteration : 49 , \n",
      "len : 200.0\n",
      "avg_rev : -1142.475931647278\n",
      "iteration : 50 , \n",
      "len : 200.0\n",
      "avg_rev : -1115.6955204033663\n",
      "iteration : 51 , \n",
      "len : 200.0\n",
      "avg_rev : -1088.947510841889\n",
      "iteration : 52 , \n",
      "len : 200.0\n",
      "avg_rev : -1068.8969894018978\n",
      "iteration : 53 , \n",
      "len : 200.0\n",
      "avg_rev : -1064.6852875303512\n",
      "iteration : 54 , \n",
      "len : 200.0\n",
      "avg_rev : -1052.8603711795633\n",
      "iteration : 55 , \n",
      "len : 200.0\n",
      "avg_rev : -1081.2673483396368\n",
      "iteration : 56 , \n",
      "len : 200.0\n",
      "avg_rev : -1085.8888761002127\n",
      "iteration : 57 , \n",
      "len : 200.0\n",
      "avg_rev : -1103.3048890954526\n",
      "iteration : 58 , \n",
      "len : 200.0\n",
      "avg_rev : -1123.8625578479464\n",
      "iteration : 59 , \n",
      "len : 200.0\n",
      "avg_rev : -1112.76280855982\n",
      "iteration : 60 , \n",
      "len : 200.0\n",
      "avg_rev : -1118.391420015526\n",
      "iteration : 61 , \n",
      "len : 200.0\n",
      "avg_rev : -1126.7591948990444\n",
      "iteration : 62 , \n",
      "len : 200.0\n",
      "avg_rev : -1118.5069481988348\n",
      "iteration : 63 , \n",
      "len : 200.0\n",
      "avg_rev : -1090.1739651173605\n",
      "iteration : 64 , \n",
      "len : 200.0\n",
      "avg_rev : -1095.7417616963\n",
      "iteration : 65 , \n",
      "len : 200.0\n",
      "avg_rev : -1072.8094771962458\n",
      "iteration : 66 , \n",
      "len : 200.0\n",
      "avg_rev : -1080.473349874205\n",
      "iteration : 67 , \n",
      "len : 200.0\n",
      "avg_rev : -1080.6216870653805\n",
      "iteration : 68 , \n",
      "len : 200.0\n",
      "avg_rev : -1096.9081774979732\n",
      "iteration : 69 , \n",
      "len : 200.0\n",
      "avg_rev : -1095.1777805421784\n",
      "iteration : 70 , \n",
      "len : 200.0\n",
      "avg_rev : -1093.6908162348534\n",
      "iteration : 71 , \n",
      "len : 200.0\n",
      "avg_rev : -1086.5555030148832\n",
      "iteration : 72 , \n",
      "len : 200.0\n",
      "avg_rev : -1071.9127197799178\n",
      "iteration : 73 , \n",
      "len : 200.0\n",
      "avg_rev : -1068.9934316706072\n",
      "iteration : 74 , \n",
      "len : 200.0\n",
      "avg_rev : -1082.0684421066167\n",
      "iteration : 75 , \n",
      "len : 200.0\n",
      "avg_rev : -1076.4263691302028\n",
      "iteration : 76 , \n",
      "len : 200.0\n",
      "avg_rev : -1077.0810654345792\n",
      "iteration : 77 , \n",
      "len : 200.0\n",
      "avg_rev : -1102.2974595306528\n",
      "iteration : 78 , \n",
      "len : 200.0\n",
      "avg_rev : -1097.2908396603418\n",
      "iteration : 79 , \n",
      "len : 200.0\n",
      "avg_rev : -1106.5937968898374\n",
      "iteration : 80 , \n",
      "len : 200.0\n",
      "avg_rev : -1113.941082758161\n",
      "iteration : 81 , \n",
      "len : 200.0\n",
      "avg_rev : -1094.2552067597082\n",
      "iteration : 82 , \n",
      "len : 200.0\n",
      "avg_rev : -1097.3573750481844\n",
      "iteration : 83 , \n",
      "len : 200.0\n",
      "avg_rev : -1114.9834052291399\n",
      "iteration : 84 , \n",
      "len : 200.0\n",
      "avg_rev : -1116.9311811242003\n",
      "iteration : 85 , \n",
      "len : 200.0\n",
      "avg_rev : -1118.3973191939626\n",
      "iteration : 86 , \n",
      "len : 200.0\n",
      "avg_rev : -1119.7095599234378\n",
      "iteration : 87 , \n",
      "len : 200.0\n",
      "avg_rev : -1109.1650150649798\n",
      "iteration : 88 , \n",
      "len : 200.0\n",
      "avg_rev : -1098.0809490621584\n",
      "iteration : 89 , \n",
      "len : 200.0\n",
      "avg_rev : -1083.9188509422995\n",
      "iteration : 90 , \n",
      "len : 200.0\n",
      "avg_rev : -1079.0356029378106\n",
      "iteration : 91 , \n",
      "len : 200.0\n",
      "avg_rev : -1113.4415439317215\n",
      "iteration : 92 , \n",
      "len : 200.0\n",
      "avg_rev : -1131.0704173785875\n",
      "iteration : 93 , \n",
      "len : 200.0\n",
      "avg_rev : -1149.2928123446247\n",
      "iteration : 94 , \n",
      "len : 200.0\n",
      "avg_rev : -1141.215331126103\n",
      "iteration : 95 , \n",
      "len : 200.0\n",
      "avg_rev : -1143.4649371744256\n",
      "iteration : 96 , \n",
      "len : 200.0\n",
      "avg_rev : -1130.4330042216375\n",
      "iteration : 97 , \n",
      "len : 200.0\n",
      "avg_rev : -1109.8331462456138\n",
      "iteration : 98 , \n",
      "len : 200.0\n",
      "avg_rev : -1092.351182799758\n",
      "iteration : 99 , \n",
      "len : 200.0\n",
      "avg_rev : -1094.6511991324394\n",
      "iteration : 100 , \n",
      "len : 200.0\n",
      "avg_rev : -1075.7866811016993\n",
      "iteration : 101 , \n",
      "len : 200.0\n",
      "avg_rev : -1057.1391924827549\n",
      "iteration : 102 , \n",
      "len : 200.0\n",
      "avg_rev : -1063.054108644155\n",
      "iteration : 103 , \n",
      "len : 200.0\n",
      "avg_rev : -1066.1859579922495\n",
      "iteration : 104 , \n",
      "len : 200.0\n",
      "avg_rev : -1062.3328876081644\n",
      "iteration : 105 , \n",
      "len : 200.0\n",
      "avg_rev : -1090.175028924806\n",
      "iteration : 106 , \n",
      "len : 200.0\n",
      "avg_rev : -1093.9721165264882\n",
      "iteration : 107 , \n",
      "len : 200.0\n",
      "avg_rev : -1080.0354015615262\n",
      "iteration : 108 , \n",
      "len : 200.0\n",
      "avg_rev : -1091.1823031452975\n",
      "iteration : 109 , \n",
      "len : 200.0\n",
      "avg_rev : -1076.820086532573\n",
      "iteration : 110 , \n",
      "len : 200.0\n",
      "avg_rev : -1057.494214581943\n",
      "iteration : 111 , \n",
      "len : 200.0\n",
      "avg_rev : -1061.226150055746\n",
      "iteration : 112 , \n",
      "len : 200.0\n",
      "avg_rev : -1058.1701293225044\n",
      "iteration : 113 , \n",
      "len : 200.0\n",
      "avg_rev : -1066.3959008720335\n",
      "iteration : 114 , \n",
      "len : 200.0\n",
      "avg_rev : -1068.2959737748326\n",
      "iteration : 115 , \n",
      "len : 200.0\n",
      "avg_rev : -1085.0122387065314\n",
      "iteration : 116 , \n",
      "len : 200.0\n",
      "avg_rev : -1095.7456544862766\n",
      "iteration : 117 , \n",
      "len : 200.0\n",
      "avg_rev : -1097.9063509584585\n",
      "iteration : 118 , \n",
      "len : 200.0\n",
      "avg_rev : -1083.3034958382573\n",
      "iteration : 119 , \n",
      "len : 200.0\n",
      "avg_rev : -1099.394495921398\n",
      "iteration : 120 , \n",
      "len : 200.0\n",
      "avg_rev : -1084.6425676927083\n",
      "iteration : 121 , \n",
      "len : 200.0\n",
      "avg_rev : -1082.8829024362954\n",
      "iteration : 122 , \n",
      "len : 200.0\n",
      "avg_rev : -1086.9894998435013\n",
      "iteration : 123 , \n",
      "len : 200.0\n",
      "avg_rev : -1107.5902830590387\n",
      "iteration : 124 , \n",
      "len : 200.0\n",
      "avg_rev : -1089.7323192624715\n",
      "iteration : 125 , \n",
      "len : 200.0\n",
      "avg_rev : -1104.7260842408657\n",
      "iteration : 126 , \n",
      "len : 200.0\n",
      "avg_rev : -1088.1050909536168\n",
      "iteration : 127 , \n",
      "len : 200.0\n",
      "avg_rev : -1084.347311957674\n",
      "iteration : 128 , \n",
      "len : 200.0\n",
      "avg_rev : -1052.9861017200906\n",
      "iteration : 129 , \n",
      "len : 200.0\n",
      "avg_rev : -1063.7263312433497\n",
      "iteration : 130 , \n",
      "len : 200.0\n",
      "avg_rev : -1053.8467819711518\n",
      "iteration : 131 , \n",
      "len : 200.0\n",
      "avg_rev : -1065.6146562601753\n",
      "iteration : 132 , \n",
      "len : 200.0\n",
      "avg_rev : -1042.7769070735358\n",
      "iteration : 133 , \n",
      "len : 200.0\n",
      "avg_rev : -1070.8196618212792\n",
      "iteration : 134 , \n",
      "len : 200.0\n",
      "avg_rev : -1082.1222119309446\n",
      "iteration : 135 , \n",
      "len : 200.0\n",
      "avg_rev : -1067.9295085556055\n",
      "iteration : 136 , \n",
      "len : 200.0\n",
      "avg_rev : -1065.7154018663266\n",
      "iteration : 137 , \n",
      "len : 200.0\n",
      "avg_rev : -1086.5007246690052\n",
      "iteration : 138 , \n",
      "len : 200.0\n",
      "avg_rev : -1092.7246332797367\n",
      "iteration : 139 , \n",
      "len : 200.0\n",
      "avg_rev : -1089.3317602182294\n"
     ]
    }
   ],
   "source": [
    "# Instanciate the PPO trainer object\n",
    "trainer = PPOTrainer(config=config)\n",
    "\n",
    "# Run it for n training iterations. A training iteration includes\n",
    "# parallel sample collection by the environment workers as well as\n",
    "# loss calculation on the collected batch and a model update.\n",
    "log = []\n",
    "iterations = 140\n",
    "eval_freq = 50\n",
    "for i in range(iterations):\n",
    "    print(\"iteration : \" +str(i), \", \")\n",
    "    log.append(trainer.train())\n",
    "    print('len : ' + str(log[i]['episode_len_mean']))\n",
    "    print('avg_rev : ' + str(np.array(log[i]['hist_stats']['episode_reward']).mean()))\n",
    "    if i % eval_freq == eval_freq-1:\n",
    "        trainer.evaluate()"
   ]
  },
  {
   "cell_type": "code",
   "execution_count": 9,
   "metadata": {},
   "outputs": [
    {
     "data": {
      "text/plain": [
       "Text(0.5, 1.0, 'Mean reward (reward = ep_length)')"
      ]
     },
     "execution_count": 9,
     "metadata": {},
     "output_type": "execute_result"
    },
    {
     "data": {
      "image/png": "[encoded data removed]",
      "text/plain": [
       "<Figure size 432x288 with 1 Axes>"
      ]
     },
     "metadata": {
      "needs_background": "light"
     },
     "output_type": "display_data"
    }
   ],
   "source": [
    "mean_rev = np.array(list(l['episode_reward_mean'] for l in log))\n",
    "plt.plot(mean_rev)\n",
    "plt.title('Mean reward (reward = ep_length)')"
   ]
  },
  {
   "cell_type": "code",
   "execution_count": 11,
   "metadata": {},
   "outputs": [
    {
     "data": {
      "text/plain": [
       "{'evaluation': {'episode_reward_max': -759.5413546504926,\n",
       "  'episode_reward_min': -1839.3662033174048,\n",
       "  'episode_reward_mean': -1221.5468313226108,\n",
       "  'episode_len_mean': 200.0,\n",
       "  'episode_media': {},\n",
       "  'episodes_this_iter': 10,\n",
       "  'policy_reward_min': {},\n",
       "  'policy_reward_max': {},\n",
       "  'policy_reward_mean': {},\n",
       "  'custom_metrics': {},\n",
       "  'hist_stats': {'episode_reward': [-849.0167354480855,\n",
       "    -1839.3662033174048,\n",
       "    -1141.1101619854583,\n",
       "    -1755.2445781421784,\n",
       "    -1812.5716671310163,\n",
       "    -1508.787220764532,\n",
       "    -847.1278328373527,\n",
       "    -856.238809171426,\n",
       "    -846.4637497781628,\n",
       "    -759.5413546504926],\n",
       "   'episode_lengths': [200, 200, 200, 200, 200, 200, 200, 200, 200, 200]},\n",
       "  'sampler_perf': {'mean_raw_obs_processing_ms': 0.12118096788964876,\n",
       "   'mean_inference_ms': 0.9735172029720612,\n",
       "   'mean_action_processing_ms': 0.09913692460590705,\n",
       "   'mean_env_wait_ms': 0.1383591318096057,\n",
       "   'mean_env_render_ms': 3.9089571323058885},\n",
       "  'off_policy_estimator': {},\n",
       "  'timesteps_this_iter': 0}}"
      ]
     },
     "execution_count": 11,
     "metadata": {},
     "output_type": "execute_result"
    }
   ],
   "source": [
    "# Evaluate the trained Trainer (and render each timestep to the shell's\n",
    "# output).\n",
    "trainer.evaluate()"
   ]
  },
  {
   "cell_type": "markdown",
   "metadata": {},
   "source": [
    "## Training an agent with a simple RNN"
   ]
  },
  {
   "cell_type": "markdown",
   "metadata": {},
   "source": [
    "### Add our custom model to the catalog"
   ]
  },
  {
   "cell_type": "code",
   "execution_count": 2,
   "metadata": {},
   "outputs": [],
   "source": [
    "ModelCatalog.register_custom_model(\"LTC\", models.LTC)"
   ]
  },
  {
   "cell_type": "markdown",
   "metadata": {},
   "source": []
  },
  {
   "cell_type": "markdown",
   "metadata": {},
   "source": [
    "### Define a config dictionary for our trainer \n",
    "Here we train on the cartpole-v1 openAI gym environment with a simple RNN as our policy net and PPO as our training algorithm."
   ]
  },
  {
   "cell_type": "code",
   "execution_count": 5,
   "metadata": {},
   "outputs": [],
   "source": [
    "rnn_config = {\n",
    "    # Environment (RLlib understands openAI gym registered strings).\n",
    "    \"env\": \"Pendulum-v1\",\n",
    "    # Use 2 environment workers (aka \"rollout workers\") that parallelly\n",
    "    # collect samples from their own environment clone(s).\n",
    "    \"num_workers\": 4,\n",
    "    # Change this to \"framework: torch\", if you are using PyTorch.\n",
    "    # Also, use \"framework: tf2\" for tf2.x eager execution.\n",
    "    \"framework\": \"torch\",\n",
    "    # Tweak the default model provided automatically by RLlib,\n",
    "    # given the environment's observation- and action spaces.\n",
    "    \"model\": {\n",
    "        \"custom_model\": \"LTC\",\n",
    "        \"custom_model_config\": \n",
    "            {\"sample_frequency\": 9,\n",
    "             \"state_size\": 12,\n",
    "             \"ode_unfolds\": 5,\n",
    "             \"epsilon\": 1e-8,\n",
    "             },\n",
    "    },\n",
    "    # Set up a separate evaluation worker set for the\n",
    "    # `trainer.evaluate()` call after training (see below).\n",
    "    \"evaluation_num_workers\": 1,\n",
    "    # Only for evaluation runs, render the env.\n",
    "    \"evaluation_config\": {\n",
    "        \"render_env\": True,\n",
    "    }\n",
    "}"
   ]
  },
  {
   "cell_type": "code",
   "execution_count": 6,
   "metadata": {},
   "outputs": [
    {
     "name": "stderr",
     "output_type": "stream",
     "text": [
      "2022-03-31 15:54:28,270\tWARNING trainer.py:2279 -- You have specified 1 evaluation workers, but your `evaluation_interval` is None! Therefore, evaluation will not occur automatically with each call to `Trainer.train()`. Instead, you will have to call `Trainer.evaluate()` manually in order to trigger an evaluation run.\n",
      "\u001b[2m\u001b[36m(pid=18455)\u001b[0m \n",
      "\u001b[2m\u001b[36m(pid=18457)\u001b[0m \n",
      "\u001b[2m\u001b[36m(pid=18449)\u001b[0m \n",
      "\u001b[2m\u001b[36m(pid=18460)\u001b[0m \n",
      "2022-03-31 15:54:36,662\tWARNING deprecation.py:45 -- DeprecationWarning: `simple_optimizer` has been deprecated. This will raise an error in the future!\n",
      "2022-03-31 15:54:36,664\tWARNING trainer.py:2279 -- You have specified 1 evaluation workers, but your `evaluation_interval` is None! Therefore, evaluation will not occur automatically with each call to `Trainer.train()`. Instead, you will have to call `Trainer.evaluate()` manually in order to trigger an evaluation run.\n",
      "\u001b[2m\u001b[36m(RolloutWorker pid=18455)\u001b[0m 2022-03-31 15:54:36,610\tWARNING deprecation.py:45 -- DeprecationWarning: `rllib.env.remote_vector_env.RemoteVectorEnv` has been deprecated. Use `ray.rllib.env.remote_base_env.RemoteBaseEnv` instead. This will raise an error in the future!\n",
      "\u001b[2m\u001b[36m(RolloutWorker pid=18457)\u001b[0m 2022-03-31 15:54:36,610\tWARNING deprecation.py:45 -- DeprecationWarning: `rllib.env.remote_vector_env.RemoteVectorEnv` has been deprecated. Use `ray.rllib.env.remote_base_env.RemoteBaseEnv` instead. This will raise an error in the future!\n",
      "\u001b[2m\u001b[36m(RolloutWorker pid=18449)\u001b[0m 2022-03-31 15:54:36,610\tWARNING deprecation.py:45 -- DeprecationWarning: `rllib.env.remote_vector_env.RemoteVectorEnv` has been deprecated. Use `ray.rllib.env.remote_base_env.RemoteBaseEnv` instead. This will raise an error in the future!\n",
      "\u001b[2m\u001b[36m(RolloutWorker pid=18460)\u001b[0m 2022-03-31 15:54:36,607\tWARNING deprecation.py:45 -- DeprecationWarning: `rllib.env.remote_vector_env.RemoteVectorEnv` has been deprecated. Use `ray.rllib.env.remote_base_env.RemoteBaseEnv` instead. This will raise an error in the future!\n",
      "2022-03-31 15:54:36,710\tWARNING util.py:55 -- Install gputil for GPU system monitoring.\n"
     ]
    },
    {
     "name": "stdout",
     "output_type": "stream",
     "text": [
      "iteration : 0 , \n"
     ]
    },
    {
     "name": "stderr",
     "output_type": "stream",
     "text": [
      "\u001b[2m\u001b[36m(pid=18452)\u001b[0m \n",
      "\u001b[2m\u001b[36m(RolloutWorker pid=18452)\u001b[0m 2022-03-31 15:54:42,178\tWARNING deprecation.py:45 -- DeprecationWarning: `rllib.env.remote_vector_env.RemoteVectorEnv` has been deprecated. Use `ray.rllib.env.remote_base_env.RemoteBaseEnv` instead. This will raise an error in the future!\n"
     ]
    },
    {
     "name": "stdout",
     "output_type": "stream",
     "text": [
      "len : 200.0\n",
      "avg_rev : -1182.66755603684\n",
      "iteration : 1 , \n",
      "len : 200.0\n",
      "avg_rev : -1235.2797878407825\n",
      "iteration : 2 , \n",
      "len : 200.0\n",
      "avg_rev : -1239.2121082716096\n",
      "iteration : 3 , \n",
      "len : 200.0\n",
      "avg_rev : -1243.4692895519042\n",
      "iteration : 4 , \n",
      "len : 200.0\n",
      "avg_rev : -1242.279026036915\n",
      "iteration : 5 , \n",
      "len : 200.0\n",
      "avg_rev : -1246.9372795408658\n",
      "iteration : 6 , \n",
      "len : 200.0\n",
      "avg_rev : -1247.7022977747445\n",
      "iteration : 7 , \n",
      "len : 200.0\n",
      "avg_rev : -1251.0633992385808\n",
      "iteration : 8 , \n",
      "len : 200.0\n",
      "avg_rev : -1244.7156093401106\n",
      "iteration : 9 , \n",
      "len : 200.0\n",
      "avg_rev : -1224.6404002158902\n",
      "iteration : 10 , \n",
      "len : 200.0\n",
      "avg_rev : -1225.6708154626772\n",
      "iteration : 11 , \n"
     ]
    }
   ],
   "source": [
    "# Instanciate the PPO trainer object\n",
    "rnn_trainer = PPOTrainer(config=rnn_config)\n",
    "\n",
    "# Run it for n training iterations. A training iteration includes\n",
    "# parallel sample collection by the environment workers as well as\n",
    "# loss calculation on the collected batch and a model update.\n",
    "log_rnn = []\n",
    "iterations = 140\n",
    "for i in range(iterations):\n",
    "    print(\"iteration : \" +str(i), \", \")\n",
    "    log_rnn.append(rnn_trainer.train())\n",
    "    print('len : ' + str(log_rnn[i]['episode_len_mean']))\n",
    "    print('avg_rev : ' + str(np.array(log_rnn[i]['hist_stats']['episode_reward']).mean()))"
   ]
  },
  {
   "cell_type": "code",
   "execution_count": null,
   "metadata": {},
   "outputs": [
    {
     "data": {
      "text/plain": [
       "Text(0.5, 1.0, 'Mean reward (reward = ep_length)')"
      ]
     },
     "execution_count": 30,
     "metadata": {},
     "output_type": "execute_result"
    },
    {
     "data": {
      "image/png": "[encoded data removed]",
      "text/plain": [
       "<Figure size 432x288 with 1 Axes>"
      ]
     },
     "metadata": {
      "needs_background": "light"
     },
     "output_type": "display_data"
    }
   ],
   "source": [
    "mean_rev_rnn = np.array(list(l['episode_reward_mean'] for l in log_rnn))\n",
    "plt.plot(mean_rev_rnn)\n",
    "plt.title('Mean reward (reward = ep_length)')"
   ]
  },
  {
   "cell_type": "code",
   "execution_count": 7,
   "metadata": {},
   "outputs": [
    {
     "ename": "NameError",
     "evalue": "name 'rnn_trainer' is not defined",
     "output_type": "error",
     "traceback": [
      "\u001b[0;31m---------------------------------------------------------------------------\u001b[0m",
      "\u001b[0;31mNameError\u001b[0m                                 Traceback (most recent call last)",
      "\u001b[1;32m/Users/renard/Documents/etudes/EPFLMA4/LTC/code/ray_RLLIB_example.ipynb Cell 19'\u001b[0m in \u001b[0;36m<cell line: 1>\u001b[0;34m()\u001b[0m\n\u001b[0;32m----> <a href='vscode-notebook-cell:/Users/renard/Documents/etudes/EPFLMA4/LTC/code/ray_RLLIB_example.ipynb#ch0000018?line=0'>1</a>\u001b[0m rnn_trainer\u001b[39m.\u001b[39mevaluate()\n",
      "\u001b[0;31mNameError\u001b[0m: name 'rnn_trainer' is not defined"
     ]
    }
   ],
   "source": [
    "rnn_trainer.evaluate()"
   ]
  },
  {
   "cell_type": "code",
   "execution_count": null,
   "metadata": {},
   "outputs": [],
   "source": []
  },
  {
   "cell_type": "markdown",
   "metadata": {},
   "source": []
  },
  {
   "cell_type": "code",
   "execution_count": 32,
   "metadata": {},
   "outputs": [
    {
     "data": {
      "image/png": "[encoded data removed]",
      "text/plain": [
       "<Figure size 432x288 with 1 Axes>"
      ]
     },
     "metadata": {
      "needs_background": "light"
     },
     "output_type": "display_data"
    }
   ],
   "source": [
    "mean_rev = np.array(list(l['episode_reward_mean'] for l in log))\n",
    "mean_rev_rnn = np.array(list(l['episode_reward_mean'] for l in log_rnn))\n",
    "plt.plot(mean_rev,label='MLP reward')\n",
    "plt.plot(mean_rev_rnn,label='RNN reward')\n",
    "plt.title('Mean reward (RNN vs MLP)')\n",
    "plt.legend(loc=\"upper right\")\n",
    "plt.show()"
   ]
  },
  {
   "cell_type": "markdown",
   "metadata": {},
   "source": []
  }
 ],
 "metadata": {
  "interpreter": {
   "hash": "a8fdc6dd3a09dc5c83aad34f80e2b308d8dfb410ffac43971d3f03fb3420545d"
  },
  "kernelspec": {
   "display_name": "Python 3.6.13 ('torchNCP')",
   "language": "python",
   "name": "python3"
  },
  "language_info": {
   "codemirror_mode": {
    "name": "ipython",
    "version": 3
   },
   "file_extension": ".py",
   "mimetype": "text/x-python",
   "name": "python",
   "nbconvert_exporter": "python",
   "pygments_lexer": "ipython3",
   "version": "3.8.12"
  },
  "orig_nbformat": 4
 },
 "nbformat": 4,
 "nbformat_minor": 2
}
