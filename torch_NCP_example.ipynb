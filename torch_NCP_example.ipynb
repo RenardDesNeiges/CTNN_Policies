{
 "cells": [
  {
   "cell_type": "markdown",
   "metadata": {},
   "source": [
    "# Example notebook for supervised training of LTC cells using the Pytorch implementation"
   ]
  },
  {
   "cell_type": "markdown",
   "metadata": {},
   "source": [
    "### Import requirements"
   ]
  },
  {
   "cell_type": "code",
   "execution_count": 5,
   "metadata": {},
   "outputs": [
    {
     "name": "stdout",
     "output_type": "stream",
     "text": [
      "2.0.0\n"
     ]
    }
   ],
   "source": [
    "import numpy as np                      # numpy  \n",
    "import torch.nn as nn                   # pytorch neural network modules\n",
    "import kerasncp as kncp                 # Keras LTC implementation (for Neural Circuit Policies)\n",
    "from kerasncp.torch import LTCCell      # the LCP network module is actually part of the keras library\n",
    "import torch                            # Pytorch\n",
    "import pytorch_lightning as pl          # Pytorch Lightning for easy training\n",
    "import torch.utils.data as data         # Data Utilities\n",
    "import matplotlib.pyplot as plt         # Matplotlib for plotting\n",
    "\n",
    "import LTCRL.utils as lru\n",
    "\n",
    "print(kncp.__version__)                 # check the module version"
   ]
  },
  {
   "cell_type": "markdown",
   "metadata": {},
   "source": [
    "### Implement a sequence unfolding module for RNN training\n",
    "There is no such native implementation in pytorch, so as recommended by the authors of the LTC paper we implement our own (this is especially important as we use Backprop though time [BPTT] instead of the adjoint method, see LTC paper for a clarification of the distinction)"
   ]
  },
  {
   "cell_type": "code",
   "execution_count": 8,
   "metadata": {},
   "outputs": [
    {
     "data": {
      "text/plain": [
       "LTCRL.utils.RNNSequence"
      ]
     },
     "execution_count": 8,
     "metadata": {},
     "output_type": "execute_result"
    }
   ],
   "source": [
    "# nn.Module that unfolds a RNN cell into a sequence\n",
    "# see implementation as:\n",
    "lru.RNNSequence"
   ]
  },
  {
   "cell_type": "code",
   "execution_count": 24,
   "metadata": {},
   "outputs": [],
   "source": [
    "# LightningModule for training a RNNSequence module\n",
    "class SequenceLearner(pl.LightningModule):\n",
    "    def __init__(self, model, lr=0.005):\n",
    "        super().__init__()\n",
    "        self.model = model\n",
    "        self.lr = lr\n",
    "\n",
    "    def training_step(self, batch, batch_idx):\n",
    "        x, y = batch\n",
    "        y_hat = self.model.forward(x)\n",
    "        y_hat = y_hat.view_as(y)\n",
    "        loss = nn.MSELoss()(y_hat, y)\n",
    "        self.log(\"train_loss\", loss, prog_bar=True)\n",
    "        return {\"loss\": loss}\n",
    "\n",
    "    def validation_step(self, batch, batch_idx):\n",
    "        x, y = batch\n",
    "        y_hat = self.model.forward(x)\n",
    "        y_hat = y_hat.view_as(y)\n",
    "        loss = nn.MSELoss()(y_hat, y)\n",
    "\n",
    "        self.log(\"val_loss\", loss, prog_bar=True)\n",
    "        return loss\n",
    "\n",
    "    def test_step(self, batch, batch_idx):\n",
    "        # Here we just reuse the validation_step for testing\n",
    "        return self.validation_step(batch, batch_idx)\n",
    "\n",
    "    def configure_optimizers(self):\n",
    "        return torch.optim.Adam(self.model.parameters(), lr=self.lr)\n",
    "\n",
    "    def optimizer_step(\n",
    "        self,\n",
    "        current_epoch,\n",
    "        batch_nb,\n",
    "        optimizer,\n",
    "        optimizer_idx,\n",
    "        closure,\n",
    "        on_tpu=False,\n",
    "        using_native_amp=False,\n",
    "        using_lbfgs=False,\n",
    "    ):\n",
    "        optimizer.optimizer.step(closure=closure)\n",
    "        # Apply weight constraints\n",
    "        self.model.rnn_cell.apply_weight_constraints()"
   ]
  },
  {
   "cell_type": "code",
   "execution_count": 48,
   "metadata": {},
   "outputs": [
    {
     "name": "stdout",
     "output_type": "stream",
     "text": [
      "data_x.size:  torch.Size([1, 48, 2])\n",
      "data_y.size:  torch.Size([1, 48, 1])\n"
     ]
    }
   ],
   "source": [
    "in_features = 2\n",
    "out_features = 1\n",
    "N = 48  # Length of the time-series\n",
    "# Input feature is a sine and a cosine wave\n",
    "data_x = np.stack(\n",
    "    [np.sin(np.linspace(0, 3 * np.pi, N)), np.cos(np.linspace(0, 3 * np.pi, N))], axis=1\n",
    ")\n",
    "data_x = np.expand_dims(data_x, axis=0).astype(np.float32)  # Add batch dimension\n",
    "# Target output is a sine with double the frequency of the input signal\n",
    "data_y = np.sin(np.linspace(0, 6 * np.pi, N)).reshape([1, N, 1]).astype(np.float32)\n",
    "data_x = torch.Tensor(data_x)\n",
    "data_y = torch.Tensor(data_y)\n",
    "print(\"data_x.size: \", str(data_x.size()))\n",
    "print(\"data_y.size: \", str(data_y.size()))\n",
    "dataloader = data.DataLoader(\n",
    "    data.TensorDataset(data_x, data_y), batch_size=1, shuffle=True, num_workers=4\n",
    ")"
   ]
  },
  {
   "cell_type": "code",
   "execution_count": 49,
   "metadata": {},
   "outputs": [
    {
     "name": "stderr",
     "output_type": "stream",
     "text": [
      "/Users/renard/miniconda3/envs/torchNCP/lib/python3.6/site-packages/pytorch_lightning/trainer/connectors/callback_connector.py:91: LightningDeprecationWarning: Setting `Trainer(progress_bar_refresh_rate=1)` is deprecated in v1.5 and will be removed in v1.7. Please pass `pytorch_lightning.callbacks.progress.TQDMProgressBar` with `refresh_rate` directly to the Trainer's `callbacks` argument instead. Or, to disable the progress bar pass `enable_progress_bar = False` to the Trainer.\n",
      "  f\"Setting `Trainer(progress_bar_refresh_rate={progress_bar_refresh_rate})` is deprecated in v1.5 and\"\n",
      "GPU available: False, used: False\n",
      "TPU available: False, using: 0 TPU cores\n",
      "IPU available: False, using: 0 IPUs\n"
     ]
    },
    {
     "name": "stdout",
     "output_type": "stream",
     "text": [
      "alloc!\n"
     ]
    }
   ],
   "source": [
    "wiring = kncp.wirings.FullyConnected(8, out_features)  # 16 units, 8 motor neurons\n",
    "ltc_cell = LTCCell(wiring, in_features)\n",
    "\n",
    "\n",
    "ltc_sequence = RNNSequence(\n",
    "    ltc_cell,\n",
    ")\n",
    "learn = SequenceLearner(ltc_sequence, lr=0.01)\n",
    "trainer = pl.Trainer(\n",
    "    logger=pl.loggers.CSVLogger(\"log\"),\n",
    "    max_epochs=400,\n",
    "    progress_bar_refresh_rate=1,\n",
    "    gradient_clip_val=1,  # Clip gradient to stabilize training\n",
    "    gpus=0,\n",
    ")"
   ]
  },
  {
   "cell_type": "code",
   "execution_count": 50,
   "metadata": {},
   "outputs": [
    {
     "name": "stderr",
     "output_type": "stream",
     "text": [
      "/Users/renard/miniconda3/envs/torchNCP/lib/python3.6/site-packages/pytorch_lightning/trainer/data_loading.py:662: UserWarning: Your `test_dataloader` has `shuffle=True`, it is strongly recommended that you turn this off for val/test/predict dataloaders.\n",
      "  category=UserWarning,\n"
     ]
    },
    {
     "name": "stdout",
     "output_type": "stream",
     "text": [
      "Testing: 0it [00:00, ?it/s]--------------------------------------------------------------------------------\n",
      "DATALOADER:0 TEST RESULTS\n",
      "{'val_loss': 0.5080159902572632}\n",
      "--------------------------------------------------------------------------------\n",
      "Testing: 100%|██████████| 1/1 [00:00<00:00, 14.73it/s]\n"
     ]
    }
   ],
   "source": [
    "results = trainer.test(learn, dataloader)"
   ]
  },
  {
   "cell_type": "code",
   "execution_count": 51,
   "metadata": {},
   "outputs": [
    {
     "data": {
      "text/plain": [
       "[<matplotlib.lines.Line2D at 0x7fca4231f978>]"
      ]
     },
     "execution_count": 51,
     "metadata": {},
     "output_type": "execute_result"
    },
    {
     "data": {
      "image/png": "[encoded data removed]",
      "text/plain": [
       "<Figure size 432x288 with 1 Axes>"
      ]
     },
     "metadata": {
      "needs_background": "light"
     },
     "output_type": "display_data"
    }
   ],
   "source": [
    "plt.plot(data_x[0,:,:])\n",
    "plt.plot(data_y[0,:,:])"
   ]
  },
  {
   "cell_type": "code",
   "execution_count": null,
   "metadata": {},
   "outputs": [],
   "source": []
  }
 ],
 "metadata": {
  "interpreter": {
   "hash": "a8fdc6dd3a09dc5c83aad34f80e2b308d8dfb410ffac43971d3f03fb3420545d"
  },
  "kernelspec": {
   "display_name": "Python 3.6.13 ('torchNCP')",
   "language": "python",
   "name": "python3"
  },
  "language_info": {
   "codemirror_mode": {
    "name": "ipython",
    "version": 3
   },
   "file_extension": ".py",
   "mimetype": "text/x-python",
   "name": "python",
   "nbconvert_exporter": "python",
   "pygments_lexer": "ipython3",
   "version": "3.6.13"
  },
  "orig_nbformat": 4
 },
 "nbformat": 4,
 "nbformat_minor": 2
}
